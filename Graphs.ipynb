{
 "cells": [
  {
   "cell_type": "markdown",
   "metadata": {},
   "source": [
    "### Graph Class"
   ]
  },
  {
   "cell_type": "code",
   "execution_count": 14,
   "metadata": {},
   "outputs": [],
   "source": [
    "from heapq import heappush, heappop \n",
    "import numpy\n",
    "from numpy import inf\n",
    "\n",
    "class Graph:\n",
    "\n",
    "    def __init__(self, directed = False,  weighted = False):\n",
    "\n",
    "        self.directed = directed\n",
    "        self.weighted = weighted\n",
    "        self.graph = {}\n",
    "        self.vertex_num = 0\n",
    "\n",
    "    def add_vertex(self, vertex):\n",
    "        if not vertex in self.graph.keys():\n",
    "            self.graph[vertex] = {}\n",
    "            self.vertex_num += 1\n",
    "        \n",
    "    def add_edge(self, origin, destiny, weight=0):\n",
    "        \n",
    "        if not origin in self.graph.keys():\n",
    "            self.add_vertex(origin)\n",
    "            \n",
    "        if not destiny in self.graph.keys():\n",
    "            self.add_vertex(destiny)\n",
    "\n",
    "        self.graph[origin][destiny] = weight\n",
    "        if not self.directed:\n",
    "            self.graph[destiny][origin] = weight\n",
    "            \n",
    "            \n",
    "    def get_cost_matrix(self):\n",
    "        \n",
    "        graph = self.graph\n",
    "        Cost = {}\n",
    "        for i in graph.keys():\n",
    "            Cost[i] = {}\n",
    "            for j in graph.keys():\n",
    "                if j in graph[i].keys():\n",
    "                    Cost[i][j] = graph[i][j]\n",
    "                else:\n",
    "                    Cost[i][j] = 0 if i==j else inf\n",
    "        return Cost\n",
    "                   \n",
    "        \n",
    "    \n",
    "    def SSSP(self, source, get_paths = False, algorithm = 'dijkstra'):\n",
    "        '''\n",
    "            Single source shortest path\n",
    "        '''\n",
    "        return self._dijkstra(source, get_paths = get_paths)\n",
    "    \n",
    "    \n",
    "    \n",
    "    def APSP(self, algorithm = 'floyd warshall'):\n",
    "        '''\n",
    "            All pairs shortest path\n",
    "        '''\n",
    "        \n",
    "        if algorithm == 'floyd warshall':\n",
    "            return self._floyd_warshall()\n",
    "        \n",
    "        if algorithm == 'dijkstra':\n",
    "            Cost = {}\n",
    "            for i in self.graph.keys():\n",
    "                Cost[i] = self._dijkstra(i)\n",
    "            return Cost\n",
    "        \n",
    "        raise Exception(\"Algorithm mispelled or not available\")\n",
    "        \n",
    "        \n",
    "        \n",
    "    def _floyd_warshall(self):\n",
    "        \n",
    "        '''\n",
    "            Floyd Warsall algorithm to solve the all pairs shortest path problem.\n",
    "            Complexity: O(V^3)\n",
    "\n",
    "            Output:\n",
    "                distances : (Cost) Dictionary that, for every node, has the \n",
    "                                   shortest distance from that node to all the \n",
    "                                   other nodes in the graph\n",
    "        \n",
    "        '''\n",
    "        \n",
    "        graph = self.graph\n",
    "        Cost = self.get_cost_matrix()\n",
    "                        \n",
    "        for i in graph.keys():\n",
    "            for j in graph.keys():\n",
    "                for k in graph.keys():\n",
    "                    Cost[j][k] = min(Cost[j][k], Cost[j][i] + Cost[i][k])\n",
    "                    \n",
    "        return Cost   \n",
    "        \n",
    "        \n",
    "        \n",
    "    def _dijkstra(self, source, get_paths = False):\n",
    "        '''\n",
    "            Dijkstra algorithm (lazy deletion and using a heap to get the minimum)\n",
    "            Complexity: O((V+E) log V)\n",
    "\n",
    "            Input:\n",
    "                source    : (Obj)  The source vertex\n",
    "\n",
    "            Output:\n",
    "                distances : (dict) Dictionary that, for every key, has the \n",
    "                                   shortest distance from the source to \n",
    "                                   that key value\n",
    "\n",
    "                paths     : (dict) Dictionary that, for every key, has the an \n",
    "                                   array with the vertexes visited in the shortest \n",
    "                                   path from the source to that key\n",
    "\n",
    "        '''\n",
    "        graph = self.graph\n",
    "        # The heap to obtain the minimum in each iteration\n",
    "        heap = []\n",
    "\n",
    "        distances = { source: 0 }\n",
    "        paths = { source: [source] }\n",
    "\n",
    "        # Updating heap\n",
    "        for u in graph[source]:\n",
    "            heappush(heap, (graph[source][u], u, source))\n",
    "\n",
    "        while heap:\n",
    "            # Vertex at the shortest distance in current step\n",
    "            distance, s, last_vertex = heappop(heap)\n",
    "\n",
    "            # Lazy deletion\n",
    "            if s in distances.keys():\n",
    "                continue\n",
    "\n",
    "            # Obtained shortest distance to current vertex, updating values\n",
    "            distances[s] = distance\n",
    "            \n",
    "            if get_paths:\n",
    "                paths[s] = [v for v in paths[last_vertex]]\n",
    "                paths[s].append(s)\n",
    "\n",
    "            # Updating heap\n",
    "            for u in graph[s]:\n",
    "                if not u in distances.keys():\n",
    "                    heappush(heap, (graph[s][u] + distances[s], u, s))\n",
    "\n",
    "        if get_paths:\n",
    "            return distances, paths\n",
    "        else:\n",
    "            return distances"
   ]
  },
  {
   "cell_type": "markdown",
   "metadata": {},
   "source": [
    "### Example"
   ]
  },
  {
   "cell_type": "code",
   "execution_count": 15,
   "metadata": {},
   "outputs": [],
   "source": [
    "# Example\n",
    "\n",
    "G = Graph(weighted = True)\n",
    "\n",
    "G.add_edge('a','b', 2)\n",
    "G.add_edge('a','c', 4)\n",
    "G.add_edge('b','c', 1)\n",
    "G.add_edge('b','e', 5)\n",
    "G.add_edge('b','d', 4)\n",
    "G.add_edge('c','d', 2)\n",
    "G.add_edge('c','f', 6)\n",
    "G.add_edge('d','e', 1)\n",
    "G.add_edge('d','f', 3)\n",
    "G.add_edge('e','g', 4)\n",
    "\n",
    "G.add_edge('f','g', 1)\n",
    "\n",
    "graph = G.graph"
   ]
  },
  {
   "cell_type": "code",
   "execution_count": 22,
   "metadata": {},
   "outputs": [
    {
     "data": {
      "text/plain": [
       "{'a': 3, 'b': 1, 'c': 0, 'd': 2, 'e': 3, 'f': 5, 'g': 6}"
      ]
     },
     "execution_count": 22,
     "metadata": {},
     "output_type": "execute_result"
    }
   ],
   "source": [
    "G.SSSP('c')"
   ]
  },
  {
   "cell_type": "code",
   "execution_count": 21,
   "metadata": {
    "collapsed": true
   },
   "outputs": [
    {
     "data": {
      "text/plain": [
       "({'a': 3, 'b': 1, 'c': 0, 'd': 2, 'e': 3, 'f': 5, 'g': 6},\n",
       " {'a': ['c', 'b', 'a'],\n",
       "  'b': ['c', 'b'],\n",
       "  'c': ['c'],\n",
       "  'd': ['c', 'd'],\n",
       "  'e': ['c', 'd', 'e'],\n",
       "  'f': ['c', 'd', 'f'],\n",
       "  'g': ['c', 'd', 'f', 'g']})"
      ]
     },
     "execution_count": 21,
     "metadata": {},
     "output_type": "execute_result"
    }
   ],
   "source": [
    "G.SSSP('c', get_paths = True)"
   ]
  },
  {
   "cell_type": "code",
   "execution_count": 16,
   "metadata": {
    "collapsed": true
   },
   "outputs": [
    {
     "data": {
      "text/plain": [
       "{'a': {'a': 0, 'b': 2, 'c': 3, 'd': 5, 'e': 6, 'f': 8, 'g': 9},\n",
       " 'b': {'a': 2, 'b': 0, 'c': 1, 'd': 3, 'e': 4, 'f': 6, 'g': 7},\n",
       " 'c': {'a': 3, 'b': 1, 'c': 0, 'd': 2, 'e': 3, 'f': 5, 'g': 6},\n",
       " 'd': {'a': 5, 'b': 3, 'c': 2, 'd': 0, 'e': 1, 'f': 3, 'g': 4},\n",
       " 'e': {'a': 6, 'b': 4, 'c': 3, 'd': 1, 'e': 0, 'f': 4, 'g': 4},\n",
       " 'f': {'a': 8, 'b': 6, 'c': 5, 'd': 3, 'e': 4, 'f': 0, 'g': 1},\n",
       " 'g': {'a': 9, 'b': 7, 'c': 6, 'd': 4, 'e': 4, 'f': 1, 'g': 0}}"
      ]
     },
     "execution_count": 16,
     "metadata": {},
     "output_type": "execute_result"
    }
   ],
   "source": [
    "G.APSP(algorithm = 'floyd warshall')"
   ]
  },
  {
   "cell_type": "code",
   "execution_count": 17,
   "metadata": {
    "collapsed": true
   },
   "outputs": [
    {
     "data": {
      "text/plain": [
       "{'a': {'a': 0, 'b': 2, 'c': 3, 'd': 5, 'e': 6, 'f': 8, 'g': 9},\n",
       " 'b': {'a': 2, 'b': 0, 'c': 1, 'd': 3, 'e': 4, 'f': 6, 'g': 7},\n",
       " 'c': {'a': 3, 'b': 1, 'c': 0, 'd': 2, 'e': 3, 'f': 5, 'g': 6},\n",
       " 'd': {'a': 5, 'b': 3, 'c': 2, 'd': 0, 'e': 1, 'f': 3, 'g': 4},\n",
       " 'e': {'a': 6, 'b': 4, 'c': 3, 'd': 1, 'e': 0, 'f': 4, 'g': 4},\n",
       " 'f': {'a': 8, 'b': 6, 'c': 5, 'd': 3, 'e': 4, 'f': 0, 'g': 1},\n",
       " 'g': {'a': 9, 'b': 7, 'c': 6, 'd': 4, 'e': 4, 'f': 1, 'g': 0}}"
      ]
     },
     "execution_count": 17,
     "metadata": {},
     "output_type": "execute_result"
    }
   ],
   "source": [
    "G.APSP(algorithm = 'dijkstra' )"
   ]
  }
 ],
 "metadata": {
  "kernelspec": {
   "display_name": "Python 3",
   "language": "python",
   "name": "python3"
  },
  "language_info": {
   "codemirror_mode": {
    "name": "ipython",
    "version": 3
   },
   "file_extension": ".py",
   "mimetype": "text/x-python",
   "name": "python",
   "nbconvert_exporter": "python",
   "pygments_lexer": "ipython3",
   "version": "3.6.4"
  }
 },
 "nbformat": 4,
 "nbformat_minor": 2
}
