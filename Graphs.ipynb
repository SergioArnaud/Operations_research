{
 "cells": [
  {
   "cell_type": "markdown",
   "metadata": {},
   "source": [
    "### Graph Class"
   ]
  },
  {
   "cell_type": "code",
   "execution_count": 1,
   "metadata": {},
   "outputs": [],
   "source": [
    "from graph import Graph"
   ]
  },
  {
   "cell_type": "markdown",
   "metadata": {},
   "source": [
    "### Example"
   ]
  },
  {
   "cell_type": "code",
   "execution_count": 2,
   "metadata": {},
   "outputs": [],
   "source": [
    "G = Graph(weighted = True)\n",
    "\n",
    "G.add_edge('a','b', 2)\n",
    "G.add_edge('a','c', 4)\n",
    "G.add_edge('b','c', 1)\n",
    "G.add_edge('b','e', 5)\n",
    "G.add_edge('b','d', 4)\n",
    "G.add_edge('c','d', 2)\n",
    "G.add_edge('c','f', 6)\n",
    "G.add_edge('d','e', 1)\n",
    "G.add_edge('d','f', 3)\n",
    "G.add_edge('e','g', 4)\n",
    "G.add_edge('f','g', 1)\n",
    "\n",
    "graph = G.graph"
   ]
  },
  {
   "cell_type": "markdown",
   "metadata": {},
   "source": [
    "### Single Source Shortest Path (Djikstra)"
   ]
  },
  {
   "cell_type": "markdown",
   "metadata": {},
   "source": [
    "Only shortest paths distances"
   ]
  },
  {
   "cell_type": "code",
   "execution_count": 4,
   "metadata": {},
   "outputs": [
    {
     "data": {
      "text/plain": [
       "{'a': 3, 'b': 1, 'c': 0, 'd': 2, 'e': 3, 'f': 5, 'g': 6}"
      ]
     },
     "execution_count": 4,
     "metadata": {},
     "output_type": "execute_result"
    }
   ],
   "source": [
    "G.SSSP('c')"
   ]
  },
  {
   "cell_type": "markdown",
   "metadata": {},
   "source": [
    "Printing the optimal paths\n"
   ]
  },
  {
   "cell_type": "code",
   "execution_count": 21,
   "metadata": {
    "collapsed": true
   },
   "outputs": [
    {
     "data": {
      "text/plain": [
       "({'a': 3, 'b': 1, 'c': 0, 'd': 2, 'e': 3, 'f': 5, 'g': 6},\n",
       " {'a': ['c', 'b', 'a'],\n",
       "  'b': ['c', 'b'],\n",
       "  'c': ['c'],\n",
       "  'd': ['c', 'd'],\n",
       "  'e': ['c', 'd', 'e'],\n",
       "  'f': ['c', 'd', 'f'],\n",
       "  'g': ['c', 'd', 'f', 'g']})"
      ]
     },
     "execution_count": 21,
     "metadata": {},
     "output_type": "execute_result"
    }
   ],
   "source": [
    "G.SSSP('c', get_paths = True)"
   ]
  },
  {
   "cell_type": "markdown",
   "metadata": {},
   "source": [
    "### (All-Pairs shortest path)"
   ]
  },
  {
   "cell_type": "markdown",
   "metadata": {},
   "source": [
    "Floyd Warshall"
   ]
  },
  {
   "cell_type": "code",
   "execution_count": 7,
   "metadata": {
    "collapsed": true
   },
   "outputs": [
    {
     "data": {
      "text/plain": [
       "{'a': {'a': 0, 'b': 2, 'c': 3, 'd': 5, 'e': 6, 'f': 8, 'g': 9},\n",
       " 'b': {'a': 2, 'b': 0, 'c': 1, 'd': 3, 'e': 4, 'f': 6, 'g': 7},\n",
       " 'c': {'a': 3, 'b': 1, 'c': 0, 'd': 2, 'e': 3, 'f': 5, 'g': 6},\n",
       " 'd': {'a': 5, 'b': 3, 'c': 2, 'd': 0, 'e': 1, 'f': 3, 'g': 4},\n",
       " 'e': {'a': 6, 'b': 4, 'c': 3, 'd': 1, 'e': 0, 'f': 4, 'g': 4},\n",
       " 'f': {'a': 8, 'b': 6, 'c': 5, 'd': 3, 'e': 4, 'f': 0, 'g': 1},\n",
       " 'g': {'a': 9, 'b': 7, 'c': 6, 'd': 4, 'e': 4, 'f': 1, 'g': 0}}"
      ]
     },
     "execution_count": 7,
     "metadata": {},
     "output_type": "execute_result"
    }
   ],
   "source": [
    "G.APSP(algorithm = 'floyd warshall')"
   ]
  },
  {
   "cell_type": "markdown",
   "metadata": {},
   "source": [
    "Dijkstra"
   ]
  },
  {
   "cell_type": "code",
   "execution_count": 17,
   "metadata": {
    "collapsed": true
   },
   "outputs": [
    {
     "data": {
      "text/plain": [
       "{'a': {'a': 0, 'b': 2, 'c': 3, 'd': 5, 'e': 6, 'f': 8, 'g': 9},\n",
       " 'b': {'a': 2, 'b': 0, 'c': 1, 'd': 3, 'e': 4, 'f': 6, 'g': 7},\n",
       " 'c': {'a': 3, 'b': 1, 'c': 0, 'd': 2, 'e': 3, 'f': 5, 'g': 6},\n",
       " 'd': {'a': 5, 'b': 3, 'c': 2, 'd': 0, 'e': 1, 'f': 3, 'g': 4},\n",
       " 'e': {'a': 6, 'b': 4, 'c': 3, 'd': 1, 'e': 0, 'f': 4, 'g': 4},\n",
       " 'f': {'a': 8, 'b': 6, 'c': 5, 'd': 3, 'e': 4, 'f': 0, 'g': 1},\n",
       " 'g': {'a': 9, 'b': 7, 'c': 6, 'd': 4, 'e': 4, 'f': 1, 'g': 0}}"
      ]
     },
     "execution_count": 17,
     "metadata": {},
     "output_type": "execute_result"
    }
   ],
   "source": [
    "G.APSP(algorithm = 'dijkstra' )"
   ]
  }
 ],
 "metadata": {
  "kernelspec": {
   "display_name": "Python 3",
   "language": "python",
   "name": "python3"
  },
  "language_info": {
   "codemirror_mode": {
    "name": "ipython",
    "version": 3
   },
   "file_extension": ".py",
   "mimetype": "text/x-python",
   "name": "python",
   "nbconvert_exporter": "python",
   "pygments_lexer": "ipython3",
   "version": "3.6.4"
  }
 },
 "nbformat": 4,
 "nbformat_minor": 2
}
