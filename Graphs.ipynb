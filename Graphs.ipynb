{
 "cells": [
  {
   "cell_type": "markdown",
   "metadata": {},
   "source": [
    "### Graph Class"
   ]
  },
  {
   "cell_type": "code",
   "execution_count": 1,
   "metadata": {},
   "outputs": [],
   "source": [
    "from graph import Graph"
   ]
  },
  {
   "cell_type": "markdown",
   "metadata": {},
   "source": [
    "# Example"
   ]
  },
  {
   "cell_type": "code",
   "execution_count": 2,
   "metadata": {},
   "outputs": [],
   "source": [
    "G = Graph(weighted = True)\n",
    "\n",
    "G.add_edge('a','b', 2)\n",
    "G.add_edge('a','c', 4)\n",
    "G.add_edge('b','c', 1)\n",
    "G.add_edge('b','e', 5)\n",
    "G.add_edge('b','d', 4)\n",
    "G.add_edge('c','d', 2)\n",
    "G.add_edge('c','f', 6)\n",
    "G.add_edge('d','e', 1)\n",
    "G.add_edge('d','f', 3)\n",
    "G.add_edge('e','g', 4)\n",
    "G.add_edge('f','g', 1)\n",
    "\n",
    "graph = G.graph"
   ]
  },
  {
   "cell_type": "markdown",
   "metadata": {},
   "source": [
    "### Single Source Shortest Path (Djikstra)"
   ]
  },
  {
   "cell_type": "markdown",
   "metadata": {},
   "source": [
    "Only shortest paths distances"
   ]
  },
  {
   "cell_type": "code",
   "execution_count": 3,
   "metadata": {},
   "outputs": [
    {
     "data": {
      "text/plain": [
       "{'a': 3, 'b': 1, 'c': 0, 'd': 2, 'e': 3, 'f': 5, 'g': 6}"
      ]
     },
     "execution_count": 3,
     "metadata": {},
     "output_type": "execute_result"
    }
   ],
   "source": [
    "G.SSSP('c')"
   ]
  },
  {
   "cell_type": "markdown",
   "metadata": {},
   "source": [
    "Printing the optimal paths\n"
   ]
  },
  {
   "cell_type": "code",
   "execution_count": 4,
   "metadata": {},
   "outputs": [
    {
     "data": {
      "text/plain": [
       "({'a': 3, 'b': 1, 'c': 0, 'd': 2, 'e': 3, 'f': 5, 'g': 6},\n",
       " {'a': ['c', 'b', 'a'],\n",
       "  'b': ['c', 'b'],\n",
       "  'c': ['c'],\n",
       "  'd': ['c', 'd'],\n",
       "  'e': ['c', 'd', 'e'],\n",
       "  'f': ['c', 'd', 'f'],\n",
       "  'g': ['c', 'd', 'f', 'g']})"
      ]
     },
     "execution_count": 4,
     "metadata": {},
     "output_type": "execute_result"
    }
   ],
   "source": [
    "G.SSSP('c', get_paths = True)"
   ]
  },
  {
   "cell_type": "markdown",
   "metadata": {},
   "source": [
    "### (All-Pairs shortest path)"
   ]
  },
  {
   "cell_type": "markdown",
   "metadata": {},
   "source": [
    "Floyd Warshall"
   ]
  },
  {
   "cell_type": "code",
   "execution_count": 5,
   "metadata": {},
   "outputs": [
    {
     "data": {
      "text/plain": [
       "{'a': {'a': 0, 'b': 2, 'c': 3, 'd': 5, 'e': 6, 'f': 8, 'g': 9},\n",
       " 'b': {'a': 2, 'b': 0, 'c': 1, 'd': 3, 'e': 4, 'f': 6, 'g': 7},\n",
       " 'c': {'a': 3, 'b': 1, 'c': 0, 'd': 2, 'e': 3, 'f': 5, 'g': 6},\n",
       " 'd': {'a': 5, 'b': 3, 'c': 2, 'd': 0, 'e': 1, 'f': 3, 'g': 4},\n",
       " 'e': {'a': 6, 'b': 4, 'c': 3, 'd': 1, 'e': 0, 'f': 4, 'g': 4},\n",
       " 'f': {'a': 8, 'b': 6, 'c': 5, 'd': 3, 'e': 4, 'f': 0, 'g': 1},\n",
       " 'g': {'a': 9, 'b': 7, 'c': 6, 'd': 4, 'e': 4, 'f': 1, 'g': 0}}"
      ]
     },
     "execution_count": 5,
     "metadata": {},
     "output_type": "execute_result"
    }
   ],
   "source": [
    "G.APSP(algorithm = 'floyd warshall')"
   ]
  },
  {
   "cell_type": "markdown",
   "metadata": {},
   "source": [
    "Dijkstra"
   ]
  },
  {
   "cell_type": "code",
   "execution_count": 6,
   "metadata": {},
   "outputs": [
    {
     "data": {
      "text/plain": [
       "{'a': {'a': 0, 'b': 2, 'c': 3, 'd': 5, 'e': 6, 'f': 8, 'g': 9},\n",
       " 'b': {'a': 2, 'b': 0, 'c': 1, 'd': 3, 'e': 4, 'f': 6, 'g': 7},\n",
       " 'c': {'a': 3, 'b': 1, 'c': 0, 'd': 2, 'e': 3, 'f': 5, 'g': 6},\n",
       " 'd': {'a': 5, 'b': 3, 'c': 2, 'd': 0, 'e': 1, 'f': 3, 'g': 4},\n",
       " 'e': {'a': 6, 'b': 4, 'c': 3, 'd': 1, 'e': 0, 'f': 4, 'g': 4},\n",
       " 'f': {'a': 8, 'b': 6, 'c': 5, 'd': 3, 'e': 4, 'f': 0, 'g': 1},\n",
       " 'g': {'a': 9, 'b': 7, 'c': 6, 'd': 4, 'e': 4, 'f': 1, 'g': 0}}"
      ]
     },
     "execution_count": 6,
     "metadata": {},
     "output_type": "execute_result"
    }
   ],
   "source": [
    "G.APSP(algorithm = 'dijkstra' )"
   ]
  },
  {
   "cell_type": "markdown",
   "metadata": {},
   "source": [
    "### Minimum spanning tree"
   ]
  },
  {
   "cell_type": "markdown",
   "metadata": {},
   "source": [
    "Kruskal "
   ]
  },
  {
   "cell_type": "code",
   "execution_count": 7,
   "metadata": {},
   "outputs": [
    {
     "data": {
      "text/plain": [
       "(10,\n",
       " {'a': {'b': 2},\n",
       "  'b': {'a': 2, 'c': 1},\n",
       "  'c': {'b': 1, 'd': 2},\n",
       "  'd': {'c': 2, 'e': 1, 'f': 3},\n",
       "  'e': {'d': 1},\n",
       "  'f': {'d': 3, 'g': 1},\n",
       "  'g': {'f': 1}})"
      ]
     },
     "execution_count": 7,
     "metadata": {},
     "output_type": "execute_result"
    }
   ],
   "source": [
    "c,T = G.MST('kruskal')\n",
    "c, T.tree"
   ]
  },
  {
   "cell_type": "markdown",
   "metadata": {},
   "source": [
    "Prim "
   ]
  },
  {
   "cell_type": "code",
   "execution_count": 8,
   "metadata": {},
   "outputs": [
    {
     "data": {
      "text/plain": [
       "(10,\n",
       " {'a': {'b': 2},\n",
       "  'b': {'a': 2, 'c': 1},\n",
       "  'c': {'b': 1, 'd': 2},\n",
       "  'd': {'c': 2, 'e': 1, 'f': 3},\n",
       "  'e': {'d': 1},\n",
       "  'f': {'d': 3, 'g': 1},\n",
       "  'g': {'f': 1}})"
      ]
     },
     "execution_count": 8,
     "metadata": {},
     "output_type": "execute_result"
    }
   ],
   "source": [
    "c,T = G.MST('prim', 'a')\n",
    "c,T.tree"
   ]
  },
  {
   "cell_type": "markdown",
   "metadata": {},
   "source": [
    "# Example 2"
   ]
  },
  {
   "cell_type": "code",
   "execution_count": 9,
   "metadata": {},
   "outputs": [],
   "source": [
    "G = Graph(weighted = True)\n",
    "\n",
    "G.add_edge('a','b', 4)\n",
    "G.add_edge('a','c', 6)\n",
    "G.add_edge('a','d', 5)\n",
    "G.add_edge('b','c', 1)\n",
    "G.add_edge('c','d', 3)\n",
    "G.add_edge('b','e', 7)\n",
    "G.add_edge('c','e', 5)\n",
    "G.add_edge('c','f', 4)\n",
    "G.add_edge('d','f', 5)\n",
    "G.add_edge('e','f', 1)\n",
    "G.add_edge('e','g', 6)\n",
    "G.add_edge('f','g', 8)\n",
    "\n",
    "graph = G.graph"
   ]
  },
  {
   "cell_type": "markdown",
   "metadata": {},
   "source": [
    "### Single Source Shortest Path (Djikstra)"
   ]
  },
  {
   "cell_type": "markdown",
   "metadata": {},
   "source": [
    "Only shortest paths distances"
   ]
  },
  {
   "cell_type": "code",
   "execution_count": 10,
   "metadata": {},
   "outputs": [
    {
     "data": {
      "text/plain": [
       "{'a': 5, 'b': 1, 'c': 0, 'd': 3, 'e': 5, 'f': 4, 'g': 11}"
      ]
     },
     "execution_count": 10,
     "metadata": {},
     "output_type": "execute_result"
    }
   ],
   "source": [
    "G.SSSP('c')"
   ]
  },
  {
   "cell_type": "markdown",
   "metadata": {},
   "source": [
    "Printing the optimal paths\n"
   ]
  },
  {
   "cell_type": "code",
   "execution_count": 11,
   "metadata": {},
   "outputs": [
    {
     "data": {
      "text/plain": [
       "({'a': 5, 'b': 1, 'c': 0, 'd': 3, 'e': 5, 'f': 4, 'g': 11},\n",
       " {'a': ['c', 'b', 'a'],\n",
       "  'b': ['c', 'b'],\n",
       "  'c': ['c'],\n",
       "  'd': ['c', 'd'],\n",
       "  'e': ['c', 'e'],\n",
       "  'f': ['c', 'f'],\n",
       "  'g': ['c', 'e', 'g']})"
      ]
     },
     "execution_count": 11,
     "metadata": {},
     "output_type": "execute_result"
    }
   ],
   "source": [
    "G.SSSP('c', get_paths = True)"
   ]
  },
  {
   "cell_type": "markdown",
   "metadata": {},
   "source": [
    "### (All-Pairs shortest path)"
   ]
  },
  {
   "cell_type": "markdown",
   "metadata": {},
   "source": [
    "Floyd Warshall"
   ]
  },
  {
   "cell_type": "code",
   "execution_count": 12,
   "metadata": {},
   "outputs": [
    {
     "data": {
      "text/plain": [
       "{'a': {'a': 0, 'b': 4, 'c': 5, 'd': 5, 'e': 10, 'f': 9, 'g': 16},\n",
       " 'b': {'a': 4, 'b': 0, 'c': 1, 'd': 4, 'e': 6, 'f': 5, 'g': 12},\n",
       " 'c': {'a': 5, 'b': 1, 'c': 0, 'd': 3, 'e': 5, 'f': 4, 'g': 11},\n",
       " 'd': {'a': 5, 'b': 4, 'c': 3, 'd': 0, 'e': 6, 'f': 5, 'g': 12},\n",
       " 'e': {'a': 10, 'b': 6, 'c': 5, 'd': 6, 'e': 0, 'f': 1, 'g': 6},\n",
       " 'f': {'a': 9, 'b': 5, 'c': 4, 'd': 5, 'e': 1, 'f': 0, 'g': 7},\n",
       " 'g': {'a': 16, 'b': 12, 'c': 11, 'd': 12, 'e': 6, 'f': 7, 'g': 0}}"
      ]
     },
     "execution_count": 12,
     "metadata": {},
     "output_type": "execute_result"
    }
   ],
   "source": [
    "G.APSP(algorithm = 'floyd warshall')"
   ]
  },
  {
   "cell_type": "markdown",
   "metadata": {},
   "source": [
    "Dijkstra"
   ]
  },
  {
   "cell_type": "code",
   "execution_count": 13,
   "metadata": {},
   "outputs": [
    {
     "data": {
      "text/plain": [
       "{'a': {'a': 0, 'b': 4, 'c': 5, 'd': 5, 'e': 10, 'f': 9, 'g': 16},\n",
       " 'b': {'a': 4, 'b': 0, 'c': 1, 'd': 4, 'e': 6, 'f': 5, 'g': 12},\n",
       " 'c': {'a': 5, 'b': 1, 'c': 0, 'd': 3, 'e': 5, 'f': 4, 'g': 11},\n",
       " 'd': {'a': 5, 'b': 4, 'c': 3, 'd': 0, 'e': 6, 'f': 5, 'g': 12},\n",
       " 'e': {'a': 10, 'b': 6, 'c': 5, 'd': 6, 'e': 0, 'f': 1, 'g': 6},\n",
       " 'f': {'a': 9, 'b': 5, 'c': 4, 'd': 5, 'e': 1, 'f': 0, 'g': 7},\n",
       " 'g': {'a': 16, 'b': 12, 'c': 11, 'd': 12, 'e': 6, 'f': 7, 'g': 0}}"
      ]
     },
     "execution_count": 13,
     "metadata": {},
     "output_type": "execute_result"
    }
   ],
   "source": [
    "G.APSP(algorithm = 'dijkstra' )"
   ]
  },
  {
   "cell_type": "markdown",
   "metadata": {},
   "source": [
    "### Minimum spanning tree"
   ]
  },
  {
   "cell_type": "markdown",
   "metadata": {},
   "source": [
    "Kruskal "
   ]
  },
  {
   "cell_type": "code",
   "execution_count": 14,
   "metadata": {},
   "outputs": [
    {
     "data": {
      "text/plain": [
       "(19,\n",
       " {'a': {'b': 4},\n",
       "  'b': {'a': 4, 'c': 1},\n",
       "  'c': {'b': 1, 'd': 3, 'f': 4},\n",
       "  'd': {'c': 3},\n",
       "  'e': {'f': 1, 'g': 6},\n",
       "  'f': {'c': 4, 'e': 1},\n",
       "  'g': {'e': 6}})"
      ]
     },
     "execution_count": 14,
     "metadata": {},
     "output_type": "execute_result"
    }
   ],
   "source": [
    "c,T = G.MST('kruskal')\n",
    "c, T.tree"
   ]
  },
  {
   "cell_type": "markdown",
   "metadata": {},
   "source": [
    "Prim "
   ]
  },
  {
   "cell_type": "code",
   "execution_count": 15,
   "metadata": {},
   "outputs": [
    {
     "data": {
      "text/plain": [
       "(19,\n",
       " {'a': {'b': 4},\n",
       "  'b': {'a': 4, 'c': 1},\n",
       "  'c': {'b': 1, 'd': 3, 'f': 4},\n",
       "  'd': {'c': 3},\n",
       "  'e': {'f': 1, 'g': 6},\n",
       "  'f': {'c': 4, 'e': 1},\n",
       "  'g': {'e': 6}})"
      ]
     },
     "execution_count": 15,
     "metadata": {},
     "output_type": "execute_result"
    }
   ],
   "source": [
    "c,T = G.MST('prim')\n",
    "c,T.tree"
   ]
  }
 ],
 "metadata": {
  "kernelspec": {
   "display_name": "Python 3",
   "language": "python",
   "name": "python3"
  },
  "language_info": {
   "codemirror_mode": {
    "name": "ipython",
    "version": 3
   },
   "file_extension": ".py",
   "mimetype": "text/x-python",
   "name": "python",
   "nbconvert_exporter": "python",
   "pygments_lexer": "ipython3",
   "version": "3.6.4"
  }
 },
 "nbformat": 4,
 "nbformat_minor": 2
}
