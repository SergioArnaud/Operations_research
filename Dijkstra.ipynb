{
 "cells": [
  {
   "cell_type": "markdown",
   "metadata": {},
   "source": [
    "### Graph Class"
   ]
  },
  {
   "cell_type": "code",
   "execution_count": 217,
   "metadata": {},
   "outputs": [],
   "source": [
    "class Graph:\n",
    "\n",
    "    def __init__(self, directed = False,  weighted = False):\n",
    "\n",
    "        self.directed = directed\n",
    "        self.weighted = weighted\n",
    "        self.graph = {}\n",
    "\n",
    "    def add_vertex(self, vertex):\n",
    "        if not vertex in self.graph.keys():\n",
    "            self.graph[vertex] = {}\n",
    "        \n",
    "    def add_edge(self, origin, destiny, weight=0):\n",
    "        \n",
    "        if not origin in self.graph.keys():\n",
    "            self.add_vertex(origin)\n",
    "            \n",
    "        if not destiny in self.graph.keys():\n",
    "            self.add_vertex(destiny)\n",
    "\n",
    "        self.graph[origin][destiny] = weight\n",
    "        if not self.directed:\n",
    "            self.graph[destiny][origin] = weight"
   ]
  },
  {
   "cell_type": "markdown",
   "metadata": {},
   "source": [
    "### Dijkstra algorithm"
   ]
  },
  {
   "cell_type": "code",
   "execution_count": 218,
   "metadata": {},
   "outputs": [],
   "source": [
    "import networkx as nx\n",
    "import matplotlib.pyplot as plt\n",
    "from heapq import heappush, heappop \n",
    "\n",
    "def dijkstra(graph, s):\n",
    "    '''\n",
    "        Dijkstra algorithm (lazy version)\n",
    "        \n",
    "        Input:\n",
    "            graph: (dict) For every key it has a dictionary where the key\n",
    "                          is a connected vertex and the value is the weight \n",
    "                          of the connection edge\n",
    "                          \n",
    "            s    : (Obj)  The source vertex\n",
    "        \n",
    "        Output:\n",
    "            distances : (dict) Dictionary that, for every key, has the \n",
    "                               shortest distance from the source to \n",
    "                               that key value\n",
    "                               \n",
    "            paths     : (dict) Dictionary that, for every key, has the an \n",
    "                               array with the vertexes visited in the shortest \n",
    "                               path from the source to that key\n",
    "    \n",
    "    '''\n",
    "    # The heap to obtain the minimum in each iteration\n",
    "    heap = []\n",
    "    \n",
    "    distances = { s: 0 }\n",
    "    paths = { s: [s] }\n",
    "    \n",
    "    # Updating heap\n",
    "    for u in graph[s]:\n",
    "        heappush(heap, (graph[s][u], u, s))\n",
    "    \n",
    "    while heap:\n",
    "        # Vertex at the shortest distance in current step\n",
    "        distance, s, last_vertex = heappop(heap)\n",
    "        \n",
    "        # Lazy deletion\n",
    "        if s in distances.keys():\n",
    "            continue\n",
    "\n",
    "        # Obtained shortest distance to current vertex, updating values\n",
    "        distances[s] = distance\n",
    "        paths[s] = [v for v in paths[last_vertex]]\n",
    "        paths[s].append(s)\n",
    "\n",
    "        # Updating heap\n",
    "        for u in graph[s]:\n",
    "            if not u in distances.keys():\n",
    "                heappush(heap, (graph[s][u] + distances[s], u, s))\n",
    "        \n",
    "    return distances, paths"
   ]
  },
  {
   "cell_type": "markdown",
   "metadata": {},
   "source": [
    "### Example"
   ]
  },
  {
   "cell_type": "code",
   "execution_count": 219,
   "metadata": {},
   "outputs": [],
   "source": [
    "# Example\n",
    "\n",
    "G = Graph(weighted = True)\n",
    "\n",
    "G.add_edge('a','b', 2)\n",
    "G.add_edge('a','c', 4)\n",
    "G.add_edge('b','c', 1)\n",
    "G.add_edge('b','e', 5)\n",
    "G.add_edge('b','d', 4)\n",
    "G.add_edge('c','d', 2)\n",
    "G.add_edge('c','f', 6)\n",
    "G.add_edge('d','e', 1)\n",
    "G.add_edge('d','f', 3)\n",
    "G.add_edge('e','g', 4)\n",
    "G.add_edge('f','g', 1)\n",
    "\n",
    "graph = G.graph"
   ]
  },
  {
   "cell_type": "code",
   "execution_count": 220,
   "metadata": {},
   "outputs": [
    {
     "data": {
      "text/plain": [
       "({'a': 0, 'b': 2, 'c': 3, 'd': 5, 'e': 6, 'f': 8, 'g': 9},\n",
       " {'a': ['a'],\n",
       "  'b': ['a', 'b'],\n",
       "  'c': ['a', 'b', 'c'],\n",
       "  'd': ['a', 'b', 'c', 'd'],\n",
       "  'e': ['a', 'b', 'c', 'd', 'e'],\n",
       "  'f': ['a', 'b', 'c', 'd', 'f'],\n",
       "  'g': ['a', 'b', 'c', 'd', 'f', 'g']})"
      ]
     },
     "execution_count": 220,
     "metadata": {},
     "output_type": "execute_result"
    }
   ],
   "source": [
    "dijkstra(graph, 'a')"
   ]
  }
 ],
 "metadata": {
  "kernelspec": {
   "display_name": "Python 3",
   "language": "python",
   "name": "python3"
  },
  "language_info": {
   "codemirror_mode": {
    "name": "ipython",
    "version": 3
   },
   "file_extension": ".py",
   "mimetype": "text/x-python",
   "name": "python",
   "nbconvert_exporter": "python",
   "pygments_lexer": "ipython3",
   "version": "3.6.4"
  }
 },
 "nbformat": 4,
 "nbformat_minor": 2
}
